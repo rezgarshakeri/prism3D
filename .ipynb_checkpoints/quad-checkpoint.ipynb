{
 "cells": [
  {
   "cell_type": "code",
   "execution_count": 21,
   "metadata": {},
   "outputs": [
    {
     "data": {
      "text/plain": [
       "Plots.GRBackend()"
      ]
     },
     "execution_count": 21,
     "metadata": {},
     "output_type": "execute_result"
    }
   ],
   "source": [
    "using Plots\n",
    "using LinearAlgebra\n",
    "using Jacobi\n",
    "using Test\n",
    "gr()\n",
    "Plots.GRBackend()"
   ]
  },
  {
   "cell_type": "code",
   "execution_count": 76,
   "metadata": {},
   "outputs": [
    {
     "data": {
      "text/plain": [
       "BilinearMap (generic function with 2 methods)"
      ]
     },
     "execution_count": 76,
     "metadata": {},
     "output_type": "execute_result"
    }
   ],
   "source": [
    "function BilinearMap(coord_E, xhat, yhat)\n",
    "    \"\"\" \n",
    "    This function maps [xhat,yhat] in Ehat=[-1,1]^2 \n",
    "    to (x,y) in E.\n",
    "    Written based on eq. (3.3), (3.4) of AC paper 2016\n",
    "    Input:\n",
    "    ------\n",
    "    coord_E: coordinates of quadrilateral E .\n",
    "    coord_E is 4x2 array\n",
    "    coord_E = [[x1,y1],\n",
    "               [x2,y2],\n",
    "               [x3,y3],\n",
    "               [x4,y4]] with vertices numbering\n",
    "    3----4\n",
    "    |    |\n",
    "    1----2\n",
    "    [xhat, yhat] in Ehat\n",
    "    Output:\n",
    "    ------\n",
    "    [x;y]: mapped vector in E.\n",
    "    DF_E: Jacobian matrix\n",
    "    J_E: det(DF_E)\n",
    "    later we transform vector vhat to v by eq. (3.4)\n",
    "    v(x) = P_E(vhat)(x) = (DF_E/J_E)*vhat(xhat)\n",
    "    \"\"\"\n",
    "    m = length(xhat)\n",
    "    P = 0.25 * [(1 .- xhat).*(1 .- yhat) (1 .+ xhat).*(1 .- yhat) (1 .- xhat).*(1 .+ yhat) (1 .+ xhat).*(1 .+ yhat)]\n",
    "    P_E = P * coord_E\n",
    "    # x=F_E(xhat)\n",
    "    x = X[:, 1]\n",
    "    y = X[:, 2]\n",
    "    # gradient of P, 1st row = dP/dxhat, 2nd row=dP/dyhat\n",
    "    # GradP_(2m x 4)\n",
    "    GradP = 0.25 * [-(1 .- yhat) (1 .- yhat) -(1 .+ yhat) (1 .+ yhat);\n",
    "                    -(1 .- xhat) -(1 .+ xhat) (1 .- xhat) (1 .+ xhat)]\n",
    "\n",
    "    # JT= [[dx/dxhat, dy/dxhat],\n",
    "    #      [dx/dyhat, dy/dyhat]] (2m x 2)\n",
    "    JT = GradP * coord_E\n",
    "    dxdxhat = JT[1:m,1]\n",
    "    dydxhat = JT[1:m,2]\n",
    "    dxdyhat = JT[m+1:2*m,1]\n",
    "    dydyhat = JT[m+1:2*m,2]\n",
    "    J_E = dxdxhat .* dydyhat .- dydxhat .* dxdyhat\n",
    "    \n",
    "    DF_E = [dxdxhat dxdyhat;dydxhat dydyhat]\n",
    "    \n",
    "    return x, y, DF_E, J_E\n",
    "end"
   ]
  },
  {
   "cell_type": "code",
   "execution_count": null,
   "metadata": {},
   "outputs": [],
   "source": [
    "coord_E = [0. 0.;.5 0.;0. .5;.5 .5]\n",
    "N = 2\n",
    "xhat = LinRange(-1,1,N)\n",
    "yhat = LinRange(-1,1,N)"
   ]
  },
  {
   "cell_type": "code",
   "execution_count": 88,
   "metadata": {},
   "outputs": [
    {
     "data": {
      "text/plain": [
       "1-element Array{Int64,1}:\n",
       " -1"
      ]
     },
     "execution_count": 88,
     "metadata": {},
     "output_type": "execute_result"
    }
   ],
   "source": [
    "function PrimeBasis(coord_E, xhat, yhat)\n",
    "\n",
    "    # sigma_hat_1 = curl[(1+yhat)*xhat^2 +xhat^2*yhat^2]\n",
    "    # sigma_hat_2 = curl[(1+xhat)*yhat^2]\n",
    "    sghat1 = [xhat^2 + 2*xhat^2 * yhat; -2*(1+yhat)*xhat -2*xhat*yhat^2]\n",
    "    sghat2 = [2*(1+xhat)*yhat;-yhat^2]\n",
    "\n",
    "    # (x,y) are in E\n",
    "    x, y, DF_E, J_E = BilinearMap(coord_E, xhat, yhat)\n",
    "    # sigma_i = P_E*sigma_hat_i\n",
    "    sg1 = (DF_E/J_E) * sghat1\n",
    "    sg2 = (DF_E/J_E) * sghat2\n",
    "\n",
    "    # we have 8 basis including sg1 and sg2\n",
    "    v1 = [1;0]\n",
    "    v2 = [x;0]\n",
    "    v3 = [y;0]\n",
    "    v4 = [0;1]\n",
    "    v5 = [0;x]\n",
    "    v6 = [0;y]\n",
    "\n",
    "    V = [v1 v2 v3 v4 v5 v6 sg1 sg2]\n",
    "\n",
    "    return V\n",
    "end\n",
    "\n",
    "coord_E = [0. 0.;.5 0.;0. .5;.5 .5]\n",
    "N = 2\n",
    "xhat = LinRange(-1,1,N)\n",
    "yhat = LinRange(-1,1,N)\n",
    "PrimeBasis(coord_E, xhat, yhat)\n",
    "#contourf(x, y, f)\n",
    "#plot(x, y, f, st = :surface, camera = (45,70))"
   ]
  },
  {
   "cell_type": "code",
   "execution_count": 89,
   "metadata": {},
   "outputs": [
    {
     "data": {
      "text/plain": [
       "1-element Array{Int64,1}:\n",
       " 1"
      ]
     },
     "execution_count": 89,
     "metadata": {},
     "output_type": "execute_result"
    }
   ],
   "source": [
    "if xhat[1] == -1\n",
    "    xhat .+=2\n",
    "else\n",
    "    xhat .-=2\n",
    "end"
   ]
  },
  {
   "cell_type": "code",
   "execution_count": null,
   "metadata": {},
   "outputs": [],
   "source": []
  },
  {
   "cell_type": "code",
   "execution_count": null,
   "metadata": {},
   "outputs": [],
   "source": []
  },
  {
   "cell_type": "code",
   "execution_count": null,
   "metadata": {},
   "outputs": [],
   "source": []
  },
  {
   "cell_type": "code",
   "execution_count": null,
   "metadata": {},
   "outputs": [],
   "source": []
  },
  {
   "cell_type": "code",
   "execution_count": null,
   "metadata": {},
   "outputs": [],
   "source": []
  },
  {
   "cell_type": "code",
   "execution_count": 23,
   "metadata": {},
   "outputs": [
    {
     "data": {
      "text/plain": [
       "GetNormal (generic function with 2 methods)"
      ]
     },
     "execution_count": 23,
     "metadata": {},
     "output_type": "execute_result"
    }
   ],
   "source": [
    "function GetNormal(coord_E, xhat, yhat)\n",
    "    \"\"\"Test of this function is passed! See test_FE_subroutines.py\n",
    "    This function returns the normal n and coordinate (x,y) on edge in element E.\n",
    "    Input:\n",
    "    ------\n",
    "    coord_E: vertices coordinate of element E\n",
    "    (xhat,yhat): coordinate of the edge in element Ehat=[-1,1]^2\n",
    "\n",
    "    Output:\n",
    "    -------\n",
    "    n: computed normal of an edge of element E\n",
    "    (x,y): mapped point of (xhat, yhat)\n",
    "\n",
    "    for example if you want normal on the left edge of E\n",
    "    enter coord_E, and (-1,0) to get 'n' of the left edge of E and corresponding (x,y)\n",
    "    \"\"\"\n",
    "    m = length(xhat)\n",
    "    x, y, DF_E, J_E = BilinearMap(coord_E, xhat, yhat)\n",
    "    dxdxhat = DF_E[1:m,1]\n",
    "    dydxhat = DF_E[1:m,2]\n",
    "    dxdyhat = DF_E[m+1:2*m,1]\n",
    "    dydyhat = DF_E[m+1:2*m,2]\n",
    "    \n",
    "    length1 = sqrt(dxdxhat*dxdxhat + dydxhat*dydxhat)\n",
    "\n",
    "    length2 = sqrt(dxdyhat*dxdyhat + dydyhat*dydyhat)\n",
    "\n",
    "    if (xhat == -1. && -1. < yhat < 1.)\n",
    "        # left edge, (0,0,1)x(dxdyhat,dydyhat,0)\n",
    "        n = [-dydyhat; dxdyhat]/length2\n",
    "\n",
    "    elseif (xhat == 1. && -1. < yhat < 1.)\n",
    "        # right edge, (0,0,-1)x(dxdyhat,dydyhat,0)\n",
    "        n = [dydyhat; -dxdyhat]/length2\n",
    "\n",
    "    elseif (yhat == -1. && -1. < xhat < 1.)\n",
    "        # bottom edge, (0,0,-1)x(dxdxhat,dydxhat,0)\n",
    "        n = [dydxhat; -dxdxhat]/length1\n",
    "\n",
    "    elseif (yhat == 1. && -1. < xhat < 1.)\n",
    "        # top edge, (0,0,1)x(dxdxhat,dydxhat,0)\n",
    "        n = [-dydxhat; dxdxhat]/length1\n",
    "\n",
    "    else\n",
    "        println(\"Error! Enter the (xhat, yhat) on the edge of Ehat\")\n",
    "    \n",
    "    end\n",
    "\n",
    "    return n, x, y\n",
    "end"
   ]
  },
  {
   "cell_type": "markdown",
   "metadata": {},
   "source": [
    "# AC quad element with new supplements basis"
   ]
  },
  {
   "cell_type": "code",
   "execution_count": 24,
   "metadata": {},
   "outputs": [
    {
     "ename": "LoadError",
     "evalue": "\u001b[91mMethodError: no method matching ^(::LinRange{Float64}, ::Int64)\u001b[39m\n\u001b[91m\u001b[0mClosest candidates are:\u001b[39m\n\u001b[91m\u001b[0m  ^(\u001b[91m::Missing\u001b[39m, ::Integer) at missing.jl:155\u001b[39m\n\u001b[91m\u001b[0m  ^(\u001b[91m::Missing\u001b[39m, ::Number) at missing.jl:115\u001b[39m\n\u001b[91m\u001b[0m  ^(\u001b[91m::Irrational{:ℯ}\u001b[39m, ::Integer) at mathconstants.jl:91\u001b[39m\n\u001b[91m\u001b[0m  ...\u001b[39m",
     "output_type": "error",
     "traceback": [
      "\u001b[91mMethodError: no method matching ^(::LinRange{Float64}, ::Int64)\u001b[39m\n\u001b[91m\u001b[0mClosest candidates are:\u001b[39m\n\u001b[91m\u001b[0m  ^(\u001b[91m::Missing\u001b[39m, ::Integer) at missing.jl:155\u001b[39m\n\u001b[91m\u001b[0m  ^(\u001b[91m::Missing\u001b[39m, ::Number) at missing.jl:115\u001b[39m\n\u001b[91m\u001b[0m  ^(\u001b[91m::Irrational{:ℯ}\u001b[39m, ::Integer) at mathconstants.jl:91\u001b[39m\n\u001b[91m\u001b[0m  ...\u001b[39m",
      "",
      "Stacktrace:",
      " [1] macro expansion at ./none:0 [inlined]",
      " [2] literal_pow at ./none:0 [inlined]",
      " [3] PrimeBasis(::Array{Float64,2}, ::LinRange{Float64}, ::LinRange{Float64}) at ./In[24]:5",
      " [4] top-level scope at In[24]:31",
      " [5] include_string(::Function, ::Module, ::String, ::String) at ./loading.jl:1091"
     ]
    }
   ],
   "source": []
  },
  {
   "cell_type": "code",
   "execution_count": null,
   "metadata": {},
   "outputs": [],
   "source": [
    "function VondermondeMat(coord_E)\n",
    "    \"\"\"\n",
    "    Input:\n",
    "    ------\n",
    "    coord_E: is the coordinate of vertices of element.\n",
    "    Note\n",
    "    3---4\n",
    "    |   |\n",
    "    1---2\n",
    "    Output:\n",
    "    ------\n",
    "    VM: the 8x8 vondermonde matrix\n",
    "    \"\"\"\n",
    "    nl, X = GetNormal(coord_E, [-1. 0.])\n",
    "    nr, X = GetNormal(coord_E, [1. 0.])\n",
    "    nb, X = GetNormal(coord_E, [0. -1.])\n",
    "    nt, X = GetNormal(coord_E, [0. 1.])\n",
    "    normals = [nb nb nr nr nl nl nt nt]\n",
    "    node1 = [-1.;-1.]\n",
    "    node2 = [1.;-1.]\n",
    "    node3 = [-1.;1.]\n",
    "    node4 = [1.;1.]\n",
    "    nodes = [node1 node2 node2 node4 node1 node3 node3 node4]\n",
    "    # vondermonde matrix, V_ij = phi_j(x_i).n_i\n",
    "    VM = zeros(8,8)\n",
    "\n",
    "    for i=1:8\n",
    "        for j=1:8\n",
    "            V = VACred(coord_E, nodes[:,i])\n",
    "            VM[i,j] = dot(V[:,j],normals[:,i])\n",
    "        end\n",
    "    end\n",
    "\n",
    "    return VM\n",
    "end\n",
    "\n",
    "function GetACNodalBasis(coord_E,Xhat)\n",
    "    \"\"\"This function returns the AC Nodal basis at point Xhat=[xhat,yhat]\n",
    "    Input:\n",
    "    ------\n",
    "    coord_E: coordinate of element E as 4x2 array\n",
    "    Xhat: is the coordinate at reference element [-1,1]^2\n",
    "\n",
    "    Output:\n",
    "    -------\n",
    "    Nhat: the nodal basis computed at Xhat=[xhat,yhat]\n",
    "    shape (2,8) as\n",
    "    Nhat = [v1,v2,v3,v4,v5,v6,v7,v8]\n",
    "    local numbering is as follow \n",
    "     v7     v8\n",
    "    3---------4\n",
    "  v6|         |v4\n",
    "    |         |\n",
    "  v5|         |v3\n",
    "    1---------2\n",
    "     v1     v2\n",
    "    \"\"\"\n",
    "    VM = VondermondeMat(coord_E)\n",
    "    V = VACred(coord_E, Xhat)\n",
    "    invVM = inv(VM)\n",
    "    Nhat = V * invVM\n",
    "\n",
    "    return Nhat\n",
    "end\n"
   ]
  },
  {
   "cell_type": "code",
   "execution_count": 13,
   "metadata": {},
   "outputs": [
    {
     "name": "stdout",
     "output_type": "stream",
     "text": [
      "\u001b[37mTestNodalBasisUniform: \u001b[39m\u001b[91m\u001b[1mError During Test\u001b[22m\u001b[39m at \u001b[39m\u001b[1mIn[13]:1\u001b[22m\n",
      "  Got exception outside of a @test\n",
      "  ArgumentError: argument count does not match specified shape (expected 2, got 3)\n",
      "  Stacktrace:\n",
      "   [1] hvcat(::Tuple{Int64,Int64}, ::Float64, ::Vararg{Float64,N} where N) at ./abstractarray.jl:1777\n",
      "   [2] VACred(::Array{Float64,2}, ::Array{Float64,1}) at ./In[12]:7\n",
      "   [3] VondermondeMat(::Array{Float64,2}) at ./In[12]:59\n",
      "   [4] GetACNodalBasis(::Array{Float64,2}, ::Array{Int64,2}) at ./In[12]:88\n",
      "   [5] top-level scope at In[13]:13\n",
      "   [6] top-level scope at /buildworker/worker/package_linux64/build/usr/share/julia/stdlib/v1.5/Test/src/Test.jl:1119\n",
      "   [7] top-level scope at In[13]:3\n",
      "   [8] include_string(::Function, ::Module, ::String, ::String) at ./loading.jl:1091\n",
      "   [9] softscope_include_string(::Module, ::String, ::String) at /home/rezgar/.julia/packages/SoftGlobalScope/u4UzH/src/SoftGlobalScope.jl:65\n",
      "   [10] execute_request(::ZMQ.Socket, ::IJulia.Msg) at /home/rezgar/.julia/packages/IJulia/e8kqU/src/execute_request.jl:67\n",
      "   [11] #invokelatest#1 at ./essentials.jl:710 [inlined]\n",
      "   [12] invokelatest at ./essentials.jl:709 [inlined]\n",
      "   [13] eventloop(::ZMQ.Socket) at /home/rezgar/.julia/packages/IJulia/e8kqU/src/eventloop.jl:8\n",
      "   [14] (::IJulia.var\"#15#18\")() at ./task.jl:356\n",
      "  \n",
      "\u001b[37m\u001b[1mTest Summary:         | \u001b[22m\u001b[39m\u001b[91m\u001b[1mError  \u001b[22m\u001b[39m\u001b[36m\u001b[1mTotal\u001b[22m\u001b[39m\n",
      "TestNodalBasisUniform | \u001b[91m    1  \u001b[39m\u001b[36m    1\u001b[39m\n"
     ]
    },
    {
     "ename": "LoadError",
     "evalue": "\u001b[91mSome tests did not pass: 0 passed, 0 failed, 1 errored, 0 broken.\u001b[39m",
     "output_type": "error",
     "traceback": [
      "\u001b[91mSome tests did not pass: 0 passed, 0 failed, 1 errored, 0 broken.\u001b[39m",
      "",
      "Stacktrace:",
      " [1] finish(::Test.DefaultTestSet) at /buildworker/worker/package_linux64/build/usr/share/julia/stdlib/v1.5/Test/src/Test.jl:883",
      " [2] top-level scope at /buildworker/worker/package_linux64/build/usr/share/julia/stdlib/v1.5/Test/src/Test.jl:1129",
      " [3] top-level scope at In[13]:3",
      " [4] include_string(::Function, ::Module, ::String, ::String) at ./loading.jl:1091"
     ]
    }
   ],
   "source": []
  },
  {
   "cell_type": "markdown",
   "metadata": {},
   "source": [
    "# The following is based on AC paper we implmented previously"
   ]
  },
  {
   "cell_type": "code",
   "execution_count": 14,
   "metadata": {},
   "outputs": [
    {
     "data": {
      "text/plain": [
       "GetACNodalBasis (generic function with 1 method)"
      ]
     },
     "execution_count": 14,
     "metadata": {},
     "output_type": "execute_result"
    }
   ],
   "source": [
    "function VACred(coord_E, Xhat)\n",
    "    \"\"\"\n",
    "    See eq. (3.14), (3.12), (3.15) of AC paper, SIAM J 2016\n",
    "    Note that (x,y) is defined on E\n",
    "    and xhat, yhat is defined on Ehat\n",
    "    returns 2x8 matrix which is our 8 prime basis phi_j\n",
    "    \"\"\"\n",
    "    xhat = Xhat[1]\n",
    "    yhat = Xhat[2]\n",
    "    # sigma_hat_1 = curl((1-xhat^2)*yhat)\n",
    "    # sigma_hat_2 = curl((1-yhat^2)*xhat)\n",
    "    sghat1 = [1-xhat^2;2*xhat*yhat]\n",
    "    sghat2 = [-2*xhat*yhat;yhat^2-1]\n",
    "\n",
    "    X, DF_E, J_E = BilinearMap(coord_E, Xhat)\n",
    "    # sigma_i = P_E*sigma_hat_i\n",
    "    sg1 = (DF_E/J_E) * sghat1\n",
    "    sg2 = (DF_E/J_E) * sghat2\n",
    "\n",
    "    # (x,y) in E is\n",
    "    x = X[1]\n",
    "    y = X[2]\n",
    "    # we have 8 basis including sg1 and sg2\n",
    "    v1 = [1;0]\n",
    "    v2 = [x;0]\n",
    "    v3 = [y;0]\n",
    "    v4 = [0;1]\n",
    "    v5 = [0;x]\n",
    "    v6 = [0;y]\n",
    "\n",
    "    V = [v1 v2 v3 v4 v5 v6 sg1 sg2]\n",
    "\n",
    "    return V\n",
    "end\n",
    "\n",
    "\n",
    "function VondermondeMat(coord_E)\n",
    "    \"\"\"\n",
    "    Input:\n",
    "    ------\n",
    "    coord_E: is the coordinate of vertices of element.\n",
    "    Note\n",
    "    3---4\n",
    "    |   |\n",
    "    1---2\n",
    "    Output:\n",
    "    ------\n",
    "    VM: the 8x8 vondermonde matrix\n",
    "    \"\"\"\n",
    "    nl, X = GetNormal(coord_E, [-1. 0.])\n",
    "    nr, X = GetNormal(coord_E, [1. 0.])\n",
    "    nb, X = GetNormal(coord_E, [0. -1.])\n",
    "    nt, X = GetNormal(coord_E, [0. 1.])\n",
    "    normals = [nb nb nr nr nl nl nt nt]\n",
    "    node1 = [-1.;-1.]\n",
    "    node2 = [1.;-1.]\n",
    "    node3 = [-1.;1.]\n",
    "    node4 = [1.;1.]\n",
    "    nodes = [node1 node2 node2 node4 node1 node3 node3 node4]\n",
    "    # vondermonde matrix, V_ij = phi_j(x_i).n_i\n",
    "    VM = zeros(8,8)\n",
    "\n",
    "    for i=1:8\n",
    "        for j=1:8\n",
    "            V = VACred(coord_E, nodes[:,i])\n",
    "            VM[i,j] = dot(V[:,j],normals[:,i])\n",
    "        end\n",
    "    end\n",
    "\n",
    "    return VM\n",
    "end\n",
    "\n",
    "\n",
    "function GetACNodalBasis(coord_E,Xhat)\n",
    "    \"\"\"This function returns the AC Nodal basis at point Xhat=[xhat,yhat]\n",
    "    Input:\n",
    "    ------\n",
    "    coord_E: coordinate of element E as 4x2 array\n",
    "    Xhat: is the coordinate at reference element [-1,1]^2\n",
    "\n",
    "    Output:\n",
    "    -------\n",
    "    Nhat: the nodal basis computed at Xhat=[xhat,yhat]\n",
    "    shape (2,8) as\n",
    "    Nhat = [v1,v2,v3,v4,v5,v6,v7,v8]\n",
    "    local numbering is as follow \n",
    "     v7     v8\n",
    "    3---------4\n",
    "  v6|         |v4\n",
    "    |         |\n",
    "  v5|         |v3\n",
    "    1---------2\n",
    "     v1     v2\n",
    "    \"\"\"\n",
    "    VM = VondermondeMat(coord_E)\n",
    "    V = VACred(coord_E, Xhat)\n",
    "    invVM = inv(VM)\n",
    "    Nhat = V * invVM\n",
    "\n",
    "    return Nhat\n",
    "end\n"
   ]
  },
  {
   "cell_type": "code",
   "execution_count": null,
   "metadata": {},
   "outputs": [],
   "source": []
  },
  {
   "cell_type": "code",
   "execution_count": 15,
   "metadata": {},
   "outputs": [
    {
     "name": "stdout",
     "output_type": "stream",
     "text": [
      "\u001b[37m\u001b[1mTest Summary:         | \u001b[22m\u001b[39m\u001b[32m\u001b[1mPass  \u001b[22m\u001b[39m\u001b[36m\u001b[1mTotal\u001b[22m\u001b[39m\n",
      "TestNodalBasisUniform | \u001b[32m  32  \u001b[39m\u001b[36m   32\u001b[39m\n"
     ]
    },
    {
     "data": {
      "text/plain": [
       "Test.DefaultTestSet(\"TestNodalBasisUniform\", Any[], 32, false)"
      ]
     },
     "execution_count": 15,
     "metadata": {},
     "output_type": "execute_result"
    }
   ],
   "source": [
    "@testset \"TestNodalBasisUniform\" begin\n",
    "\n",
    "    coord_E = [0. 0.;\n",
    "               .5 0.;\n",
    "               0. .5;\n",
    "               .5 .5]\n",
    "    \n",
    "    nl, X = GetNormal(coord_E, [-1. 0.])\n",
    "    nr, X = GetNormal(coord_E, [1. 0.])\n",
    "    nb, X = GetNormal(coord_E, [0. -1.])\n",
    "    nt, X = GetNormal(coord_E, [0. 1.])\n",
    "    # check node 1\n",
    "    Nhat = GetACNodalBasis(coord_E,[-1 -1])\n",
    "    # Note: Nhat = [v1,v2,v3,v4,v5,v6,v7,v8]\n",
    "    # check v1.nb=1 and v5.nl=1\n",
    "    @test dot(Nhat[:,1],nb) == 1.\n",
    "    @test dot(Nhat[:,5],nl) == 1.\n",
    "    # check other nodes\n",
    "    @test dot(Nhat[:,2],nb) == 0.\n",
    "    @test dot(Nhat[:,3],nr) == 0.\n",
    "    @test dot(Nhat[:,4],nr) == 0.\n",
    "    @test dot(Nhat[:,6],nl) == 0.\n",
    "    @test dot(Nhat[:,7],nt) == 0.\n",
    "    @test dot(Nhat[:,8],nt) == 0.\n",
    "\n",
    "    # check node 2\n",
    "    Nhat = GetACNodalBasis(coord_E,[1 -1])\n",
    "    # Note: Nhat = [v1,v2,v3,v4,v5,v6,v7,v8]\n",
    "    # check v2.nb=1 and v3.nr=1\n",
    "    @test dot(Nhat[:,2],nb) == 1.\n",
    "    @test dot(Nhat[:,3],nr) == 1.\n",
    "    # check other nodes\n",
    "    @test dot(Nhat[:,1],nb) == 0.\n",
    "    @test dot(Nhat[:,4],nr) == 0.\n",
    "    @test dot(Nhat[:,5],nl) == 0.\n",
    "    @test dot(Nhat[:,6],nl) == 0.\n",
    "    @test dot(Nhat[:,7],nt) == 0.\n",
    "    @test dot(Nhat[:,8],nt) == 0.\n",
    "\n",
    "    # check node 3\n",
    "    Nhat = GetACNodalBasis(coord_E,[-1 1])\n",
    "    # Note: Nhat = [v1,v2,v3,v4,v5,v6,v7,v8]\n",
    "    # check v6.nl=1 and v7.nt=1\n",
    "    @test dot(Nhat[:,6],nl) == 1.\n",
    "    @test dot(Nhat[:,7],nt) == 1.\n",
    "    # check other nodes\n",
    "    @test dot(Nhat[:,1],nb) == 0.\n",
    "    @test dot(Nhat[:,2],nb) == 0.\n",
    "    @test dot(Nhat[:,3],nr) == 0.\n",
    "    @test dot(Nhat[:,4],nr) == 0.\n",
    "    @test dot(Nhat[:,5],nl) == 0.\n",
    "    @test dot(Nhat[:,8],nt) == 0.\n",
    "\n",
    "    # check node 4\n",
    "    Nhat = GetACNodalBasis(coord_E,[1 1])\n",
    "    # Note: Nhat = [v1,v2,v3,v4,v5,v6,v7,v8]\n",
    "    # check v8.nt=1 and v4.nr=1\n",
    "    @test dot(Nhat[:,4],nr) == 1.\n",
    "    @test dot(Nhat[:,8],nt) == 1.\n",
    "    # check other nodes\n",
    "    @test dot(Nhat[:,1],nb) == 0.\n",
    "    @test dot(Nhat[:,2],nb) == 0.\n",
    "    @test dot(Nhat[:,3],nr) == 0.\n",
    "    @test dot(Nhat[:,5],nl) == 0.\n",
    "    @test dot(Nhat[:,6],nl) == 0.\n",
    "    @test dot(Nhat[:,7],nt) == 0.\n",
    "\n",
    "end\n"
   ]
  },
  {
   "cell_type": "code",
   "execution_count": null,
   "metadata": {},
   "outputs": [],
   "source": []
  },
  {
   "cell_type": "code",
   "execution_count": null,
   "metadata": {},
   "outputs": [],
   "source": []
  }
 ],
 "metadata": {
  "kernelspec": {
   "display_name": "Julia 1.5.4",
   "language": "julia",
   "name": "julia-1.5"
  },
  "language_info": {
   "file_extension": ".jl",
   "mimetype": "application/julia",
   "name": "julia",
   "version": "1.5.4"
  }
 },
 "nbformat": 4,
 "nbformat_minor": 4
}
