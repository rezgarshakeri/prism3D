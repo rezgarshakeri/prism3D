{
 "cells": [
  {
   "cell_type": "code",
   "execution_count": 1,
   "metadata": {},
   "outputs": [],
   "source": [
    "using LinearAlgebra\n",
    "using Jacobi\n",
    "using Plots\n",
    "using Test"
   ]
  },
  {
   "cell_type": "code",
   "execution_count": 2,
   "metadata": {},
   "outputs": [
    {
     "data": {
      "text/plain": [
       "GetQuadrature2D (generic function with 1 method)"
      ]
     },
     "execution_count": 2,
     "metadata": {},
     "output_type": "execute_result"
    }
   ],
   "source": [
    "function GetQuadrature2D(Q)\n",
    "    \n",
    "    alpha = 0.0\n",
    "    beta = 0.0\n",
    "    q = zgj(Q, alpha, beta)\n",
    "    w = wgj(q, alpha, beta)\n",
    "    \n",
    "    w2 = zeros(Q*Q)\n",
    "    qx = zeros(Q*Q)\n",
    "    qy = zeros(Q*Q)\n",
    "    for i=1:Q\n",
    "        for j=1:Q\n",
    "            k = (i-1)*Q +j\n",
    "            qx[k] = q[j]\n",
    "            qy[k] = q[i]\n",
    "            w2[k] = w[j]*w[i]\n",
    "        end\n",
    "    end\n",
    "    return w2, qx, qy\n",
    "end"
   ]
  },
  {
   "cell_type": "code",
   "execution_count": 3,
   "metadata": {},
   "outputs": [
    {
     "data": {
      "text/plain": [
       "BilinearMap (generic function with 1 method)"
      ]
     },
     "execution_count": 3,
     "metadata": {},
     "output_type": "execute_result"
    }
   ],
   "source": [
    "function BilinearMap(coord_E, xhat, yhat)\n",
    "    m = length(xhat)\n",
    "    P = 0.25 * [(1 .- xhat).*(1 .- yhat) (1 .+ xhat).*(1 .- yhat) (1 .- xhat).*(1 .+ yhat) (1 .+ xhat).*(1 .+ yhat)]\n",
    "    P_E = P * coord_E\n",
    "    # x=F_E(xhat)\n",
    "    X = P_E\n",
    "    x = X[:, 1]\n",
    "    y = X[:, 2]\n",
    "    # gradient of P, 1st row = dP/dxhat, 2nd row=dP/dyhat\n",
    "    # GradP_(2m x 4)\n",
    "    GradP = 0.25 * [-(1 .- yhat) (1 .- yhat) -(1 .+ yhat) (1 .+ yhat);\n",
    "                    -(1 .- xhat) -(1 .+ xhat) (1 .- xhat) (1 .+ xhat)]\n",
    "\n",
    "    # JT= [[dx/dxhat, dy/dxhat],\n",
    "    #      [dx/dyhat, dy/dyhat]] (2m x 2)\n",
    "    JT = GradP * coord_E\n",
    "    dxdxhat = JT[1:m,1]\n",
    "    dydxhat = JT[1:m,2]\n",
    "    dxdyhat = JT[m+1:2*m,1]\n",
    "    dydyhat = JT[m+1:2*m,2]\n",
    "    J_E = dxdxhat .* dydyhat .- dydxhat .* dxdyhat\n",
    "    \n",
    "    DF_E = [dxdxhat dxdyhat;dydxhat dydyhat]\n",
    "    \n",
    "    return x, y, DF_E, J_E\n",
    "end"
   ]
  },
  {
   "cell_type": "code",
   "execution_count": 4,
   "metadata": {},
   "outputs": [
    {
     "name": "stdout",
     "output_type": "stream",
     "text": [
      "\u001b[37m\u001b[1mTest Summary: | \u001b[22m\u001b[39m\u001b[32m\u001b[1mPass  \u001b[22m\u001b[39m\u001b[36m\u001b[1mTotal\u001b[22m\u001b[39m\n",
      "uniformgrid   | \u001b[32m   2  \u001b[39m\u001b[36m    2\u001b[39m\n"
     ]
    },
    {
     "data": {
      "text/plain": [
       "Test.DefaultTestSet(\"uniformgrid\", Any[], 2, false, false)"
      ]
     },
     "execution_count": 4,
     "metadata": {},
     "output_type": "execute_result"
    }
   ],
   "source": [
    "@testset \"uniformgrid\" begin\n",
    "    # integrate over [0,2]x[0,1]\n",
    "    Q = 5\n",
    "    coord_E = [0. 0.;2. 0.;0. 1.;2. 1.]\n",
    "    w2, qx, qy = GetQuadrature2D(Q)\n",
    "    x, y, DF_E, J_E = BilinearMap(coord_E,qx, qy)\n",
    "    @test isapprox((J_E .* w2)' * (x .* y.^2), 2/3, atol=1-13)\n",
    "    @test isapprox((J_E .* w2)' * (cos.(x) .* cos.(y)), sin(1)*sin(2), atol=1-6)\n",
    "    \n",
    "end"
   ]
  },
  {
   "cell_type": "code",
   "execution_count": 5,
   "metadata": {},
   "outputs": [
    {
     "name": "stdout",
     "output_type": "stream",
     "text": [
      "\u001b[37m\u001b[1mTest Summary:  | \u001b[22m\u001b[39m\u001b[32m\u001b[1mPass  \u001b[22m\u001b[39m\u001b[36m\u001b[1mTotal\u001b[22m\u001b[39m\n",
      "nonuniformgrid | \u001b[32m   1  \u001b[39m\u001b[36m    1\u001b[39m\n"
     ]
    },
    {
     "data": {
      "text/plain": [
       "Test.DefaultTestSet(\"nonuniformgrid\", Any[], 1, false, false)"
      ]
     },
     "execution_count": 5,
     "metadata": {},
     "output_type": "execute_result"
    }
   ],
   "source": [
    "@testset \"nonuniformgrid\" begin\n",
    "    \n",
    "    # integrate over quad\n",
    "    Q = 3\n",
    "    coord_E = [0. 0.;48. 64.;-60. 40.;0. 100.]\n",
    "    w2, qx, qy = GetQuadrature2D(Q)\n",
    "    x, y, DF_E, J_E = BilinearMap(coord_E,qx, qy)\n",
    "    @test isapprox((J_E .* w2)' * (ones(Q*Q)), 5400, atol=1-13)\n",
    "    \n",
    "end"
   ]
  },
  {
   "cell_type": "code",
   "execution_count": 6,
   "metadata": {},
   "outputs": [
    {
     "data": {
      "text/plain": [
       "0.0"
      ]
     },
     "execution_count": 6,
     "metadata": {},
     "output_type": "execute_result"
    }
   ],
   "source": [
    "# integrate Legendre Polynomial over quad\n",
    "Q = 5\n",
    "coord_E = [0. 0.;2. 0.;0. 1.;2. 1.]\n",
    "w2, qx, qy = GetQuadrature2D(Q)\n",
    "x, y, DF_E, J_E = BilinearMap(coord_E,qx, qy)\n",
    "leg22 = legendre.(qx, 2) .* legendre.(qy, 2)\n",
    "leg12 = legendre.(qx, 1) .* legendre.(qy, 2)\n",
    "(J_E .* w2)' * (leg22 .* leg12)"
   ]
  },
  {
   "cell_type": "code",
   "execution_count": null,
   "metadata": {},
   "outputs": [],
   "source": []
  }
 ],
 "metadata": {
  "kernelspec": {
   "display_name": "Julia 1.6.0",
   "language": "julia",
   "name": "julia-1.6"
  },
  "language_info": {
   "file_extension": ".jl",
   "mimetype": "application/julia",
   "name": "julia",
   "version": "1.6.0"
  }
 },
 "nbformat": 4,
 "nbformat_minor": 4
}
