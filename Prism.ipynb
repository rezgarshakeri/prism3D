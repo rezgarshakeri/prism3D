{
 "cells": [
  {
   "cell_type": "code",
   "execution_count": 12,
   "metadata": {},
   "outputs": [
    {
     "data": {
      "text/plain": [
       "Plots.GRBackend()"
      ]
     },
     "execution_count": 12,
     "metadata": {},
     "output_type": "execute_result"
    }
   ],
   "source": [
    "using LowRankApprox\n",
    "using Plots\n",
    "using LinearAlgebra\n",
    "using Jacobi\n",
    "using Test\n",
    "gr()\n",
    "Plots.GRBackend()"
   ]
  },
  {
   "cell_type": "code",
   "execution_count": 13,
   "metadata": {},
   "outputs": [
    {
     "data": {
      "text/plain": [
       "TrilinearMap (generic function with 1 method)"
      ]
     },
     "execution_count": 13,
     "metadata": {},
     "output_type": "execute_result"
    }
   ],
   "source": [
    "function TrilinearMap(coord_E, xhat, yhat, zhat)\n",
    "\n",
    "    \n",
    "    m = length(xhat)\n",
    "    P1 = @. 0.5*(1-xhat-yhat)*(1-zhat)\n",
    "    P2 = @. 0.5*xhat*(1-zhat)\n",
    "    P3 = @. 0.5*yhat*(1-zhat)\n",
    "    P4 = @. 0.5*(1-xhat-yhat)*(1+zhat)\n",
    "    P5 = @. 0.5*xhat*(1+zhat)\n",
    "    P6 = @. 0.5*yhat*(1+zhat)\n",
    "    P = [P1 P2 P3 P4 P5 P6]\n",
    "    P_E = P * coord_E\n",
    "    # x=F_E(xhat)\n",
    "    X = P_E\n",
    "    x = X[:, 1]\n",
    "    y = X[:, 2]\n",
    "    z = X[:, 3]\n",
    "    # gradient of P, [dP/dxhat; dP/dyhat; dP/dzhat]\n",
    "    GradP = @. [-0.5*(1-zhat) 0.5*(1-zhat) 0 -0.5*(1+zhat) 0.5*(1+zhat) 0;\n",
    "                -0.5*(1-zhat) 0 0.5*(1-zhat) -0.5*(1+zhat) 0 0.5*(1+zhat);\n",
    "                -0.5*(1-xhat-yhat) -0.5*xhat -0.5*yhat 0.5*(1-xhat-yhat) 0.5*xhat 0.5*yhat]\n",
    "\n",
    "    # JT = [[dx/dxhat, dy/dxhat, dz/dxhat],\n",
    "    #       [dx/dyhat, dy/dyhat, dz/dyhat],\n",
    "    #       [dx/dzhat, dy/dzhat, dz/dzhat]] (3m x 3)\n",
    "\n",
    "    JT = GradP * coord_E\n",
    "    dxdxhat = JT[1:m,1]\n",
    "    dydxhat = JT[1:m,2]\n",
    "    dzdxhat = JT[1:m,3]\n",
    "    dxdyhat = JT[m+1:2*m,1]\n",
    "    dydyhat = JT[m+1:2*m,2]\n",
    "    dzdyhat = JT[m+1:2*m,3]\n",
    "    dxdzhat = JT[2*m+1:3*m,1]\n",
    "    dydzhat = JT[2*m+1:3*m,2]\n",
    "    dzdzhat = JT[2*m+1:3*m,3]\n",
    "    J_E = @. (dxdxhat*dydyhat*dzdzhat + dxdyhat*dydzhat*dzdzhat + dxdzhat*dydxhat*dzdyhat)-(dxdxhat*dydzhat*dzdyhat + dxdyhat*dydxhat*dzdzhat + dxdzhat*dydyhat*dzdxhat)\n",
    "    \n",
    "    DF_E = [dxdxhat dxdyhat dxdzhat;dydxhat dydyhat dydzhat;dzdxhat dzdyhat dzdzhat]\n",
    "    \n",
    "    return x, y, z, DF_E, J_E\n",
    "end"
   ]
  },
  {
   "cell_type": "code",
   "execution_count": 14,
   "metadata": {},
   "outputs": [
    {
     "data": {
      "text/plain": [
       "([0.5], [0.5], [1.0], [1.0 0.5 0.0; 0.0 0.5 0.0; 0.0 0.0 0.5], [0.25])"
      ]
     },
     "execution_count": 14,
     "metadata": {},
     "output_type": "execute_result"
    }
   ],
   "source": [
    "coord_E = [0. 0. 0.;1. 0. 0.;.5 .5 0.;\n",
    "               0. 0. 1.;1. 0. 1.;.5 .5 1.]\n",
    "xhat = [0]\n",
    "yhat = [1]\n",
    "zhat = [1]\n",
    "x, y, z, DF_E, J_E = TrilinearMap(coord_E,xhat,yhat,zhat)"
   ]
  },
  {
   "cell_type": "code",
   "execution_count": 15,
   "metadata": {},
   "outputs": [
    {
     "data": {
      "text/plain": [
       "PrimeBasis (generic function with 1 method)"
      ]
     },
     "execution_count": 15,
     "metadata": {},
     "output_type": "execute_result"
    }
   ],
   "source": [
    "function PrimeBasis(coord_E, xhat, yhat, zhat)\n",
    "\n",
    "    m = length(xhat)\n",
    "    # supplements from Wheeler, Xue, & Yotov, 2011\n",
    "    shat1 = [(2*yhat .* zhat) (zeros(m)) (zeros(m))]\n",
    "    shat2 = [(zeros(m)) (2*xhat .* zhat) (zeros(m))]\n",
    "    shat3 = [(zeros(m)) (2*yhat .* zhat) (-zhat.^2)]  \n",
    "    shat4 = [(2*xhat .* zhat) (zeros(m)) (-zhat.^2)]\n",
    "    shat5 = [(xhat.^2) (xhat .* yhat) (-3*xhat .* zhat)]\n",
    "    shat6 = [(yhat .* xhat) (yhat.^2) (-3*yhat .* zhat)]\n",
    "\n",
    "    # (x,y,z) are in E\n",
    "    x, y, z, DF_E, J_E = TrilinearMap(coord_E, xhat, yhat, zhat)\n",
    "    \n",
    "    # we have 18 basis in 3D space\n",
    "    P1 = zeros(3,m,18)\n",
    "    P1[1,:,1] = ones(m)\n",
    "    P1[1,:,2] = x\n",
    "    P1[1,:,3] = y\n",
    "    P1[1,:,4] = z\n",
    "    P1[2,:,5] = ones(m)\n",
    "    P1[2,:,6] = x\n",
    "    P1[2,:,7] = y\n",
    "    P1[2,:,8] = z\n",
    "    P1[3,:,9] = ones(m)\n",
    "    P1[3,:,10] = x\n",
    "    P1[3,:,11] = y\n",
    "    P1[3,:,12] = z\n",
    "    # supplement\n",
    "    P1[1,:,13] = (DF_E[1:m,1] .* shat1[:,1] + DF_E[1:m,2] .* shat1[:,2] + DF_E[1:m,3] .* shat1[:,3]) ./ J_E\n",
    "    P1[2,:,13] = (DF_E[m+1:2*m,1] .* shat1[:,1] + DF_E[m+1:2*m,2] .* shat1[:,2] + DF_E[m+1:2*m,3] .* shat1[:,3]) ./ J_E\n",
    "    P1[3,:,13] = (DF_E[2*m+1:3*m,1] .* shat1[:,1] + DF_E[2*m+1:3*m,2] .* shat1[:,2] + DF_E[2*m+1:3*m,3] .* shat1[:,3]) ./ J_E\n",
    "\n",
    "    P1[1,:,14] = (DF_E[1:m,1] .* shat2[:,1] + DF_E[1:m,2] .* shat2[:,2] + DF_E[1:m,3] .* shat2[:,3]) ./ J_E\n",
    "    P1[2,:,14] = (DF_E[m+1:2*m,1] .* shat2[:,1] + DF_E[m+1:2*m,2] .* shat2[:,2] + DF_E[m+1:2*m,3] .* shat2[:,3]) ./ J_E\n",
    "    P1[3,:,14] = (DF_E[2*m+1:3*m,1] .* shat2[:,1] + DF_E[2*m+1:3*m,2] .* shat2[:,2] + DF_E[2*m+1:3*m,3] .* shat2[:,3]) ./ J_E\n",
    "\n",
    "    P1[1,:,15] = (DF_E[1:m,1] .* shat3[:,1] + DF_E[1:m,2] .* shat3[:,2] + DF_E[1:m,3] .* shat3[:,3]) ./ J_E\n",
    "    P1[2,:,15] = (DF_E[m+1:2*m,1] .* shat3[:,1] + DF_E[m+1:2*m,2] .* shat3[:,2] + DF_E[m+1:2*m,3] .* shat3[:,3]) ./ J_E\n",
    "    P1[3,:,15] = (DF_E[2*m+1:3*m,1] .* shat3[:,1] + DF_E[2*m+1:3*m,2] .* shat3[:,2] + DF_E[2*m+1:3*m,3] .* shat3[:,3]) ./ J_E\n",
    "\n",
    "    P1[1,:,16] = (DF_E[1:m,1] .* shat4[:,1] + DF_E[1:m,2] .* shat4[:,2] + DF_E[1:m,3] .* shat4[:,3]) ./ J_E\n",
    "    P1[2,:,16] = (DF_E[m+1:2*m,1] .* shat4[:,1] + DF_E[m+1:2*m,2] .* shat4[:,2] + DF_E[m+1:2*m,3] .* shat4[:,3]) ./ J_E\n",
    "    P1[3,:,16] = (DF_E[2*m+1:3*m,1] .* shat4[:,1] + DF_E[2*m+1:3*m,2] .* shat4[:,2] + DF_E[2*m+1:3*m,3] .* shat4[:,3]) ./ J_E\n",
    "\n",
    "    P1[1,:,17] = (DF_E[1:m,1] .* shat5[:,1] + DF_E[1:m,2] .* shat5[:,2] + DF_E[1:m,3] .* shat5[:,3]) ./ J_E\n",
    "    P1[2,:,17] = (DF_E[m+1:2*m,1] .* shat5[:,1] + DF_E[m+1:2*m,2] .* shat5[:,2] + DF_E[m+1:2*m,3] .* shat5[:,3]) ./ J_E\n",
    "    P1[3,:,17] = (DF_E[2*m+1:3*m,1] .* shat5[:,1] + DF_E[2*m+1:3*m,2] .* shat5[:,2] + DF_E[2*m+1:3*m,3] .* shat5[:,3]) ./ J_E\n",
    "\n",
    "    P1[1,:,18] = (DF_E[1:m,1] .* shat6[:,1] + DF_E[1:m,2] .* shat6[:,2] + DF_E[1:m,3] .* shat6[:,3]) ./ J_E\n",
    "    P1[2,:,18] = (DF_E[m+1:2*m,1] .* shat6[:,1] + DF_E[m+1:2*m,2] .* shat6[:,2] + DF_E[m+1:2*m,3] .* shat6[:,3]) ./ J_E\n",
    "    P1[3,:,18] = (DF_E[2*m+1:3*m,1] .* shat6[:,1] + DF_E[2*m+1:3*m,2] .* shat6[:,2] + DF_E[2*m+1:3*m,3] .* shat6[:,3]) ./ J_E\n",
    "\n",
    "    P = zeros(3*m,18)    \n",
    "    P[1:m,:] = P1[1,:,:]\n",
    "    P[m+1:2*m,:] = P1[2,:,:]\n",
    "    P[2*m+1:3*m,:] = P1[3,:,:]\n",
    "    \n",
    "    return P\n",
    "end"
   ]
  },
  {
   "cell_type": "code",
   "execution_count": 16,
   "metadata": {},
   "outputs": [
    {
     "data": {
      "text/plain": [
       "GetNormal (generic function with 1 method)"
      ]
     },
     "execution_count": 16,
     "metadata": {},
     "output_type": "execute_result"
    }
   ],
   "source": [
    "function GetNormal(coord_E, xhat, yhat, zhat, edge)\n",
    "\n",
    "    m = length(xhat)\n",
    "    if edge == \"left\"\n",
    "\n",
    "        n = [0. ; -1. ; 0.] \n",
    "\n",
    "    elseif edge == \"diagonal\"\n",
    "\n",
    "        n = [sqrt(2)/2 ; sqrt(2)/2; 0.]\n",
    "\n",
    "    elseif edge == \"bottom\"\n",
    "        \n",
    "        n = [0. ; 0. ; -1.]\n",
    "\n",
    "    elseif edge == \"top\"\n",
    "        \n",
    "        n = [0. ; 0. ; 1.]\n",
    "        \n",
    "    elseif edge == \"back\"\n",
    "        \n",
    "        n = [-1. ; 0. ; 0.]\n",
    "\n",
    "    else\n",
    "        println(\"Error! Enter correct name for edge\")\n",
    "    \n",
    "    end\n",
    "\n",
    "    return n\n",
    "end"
   ]
  },
  {
   "cell_type": "code",
   "execution_count": 17,
   "metadata": {},
   "outputs": [
    {
     "data": {
      "text/plain": [
       "VondermondeMat (generic function with 1 method)"
      ]
     },
     "execution_count": 17,
     "metadata": {},
     "output_type": "execute_result"
    }
   ],
   "source": [
    "function VondermondeMat(coord_E)\n",
    "    \"\"\"\n",
    "    Input:\n",
    "    ------\n",
    "    coord_E: is the coordinate of vertices of element.\n",
    "    Note\n",
    "    3---4\n",
    "    |   |\n",
    "    1---2\n",
    "    Output:\n",
    "    ------\n",
    "    VM: the 8x8 vondermonde matrix\n",
    "    \"\"\"\n",
    "    nl = GetNormal(coord_E, [0.], [-1.],[0.],\"left\")\n",
    "    nd = GetNormal(coord_E, [0.], [1.],[0.],\"diagonal\")\n",
    "    nbt = GetNormal(coord_E, [0.], [0.],[-1.],\"bottom\")\n",
    "    nt = GetNormal(coord_E, [0.], [0.],[1.],\"top\")\n",
    "    nbk = GetNormal(coord_E, [-1.], [0.],[0.],\"back\")\n",
    "    normals = [nbk nl nbt nd nl nbt nbk nd nbt nbk nl nt nd nl nt nbk nd nt]\n",
    "    nd1 = [0.;0.;-1.]\n",
    "    nd2 = [1.;0.;-1.]\n",
    "    nd3 = [0.;1.;-1.]\n",
    "    nd4 = [0.;0.;1.]\n",
    "    nd5 = [1.;0.;1.]\n",
    "    nd6 = [0.;1.;1.]\n",
    "    nodes = [nd1 nd1 nd1 nd2 nd2 nd2 nd3 nd3 nd3 nd4 nd4 nd4 nd5 nd5 nd5 nd6 nd6 nd6]\n",
    "    # vondermonde matrix, V_ij = phi_j(x_i).n_i\n",
    "    VM = zeros(18,18)\n",
    "\n",
    "    for i=1:18\n",
    "        for j=1:18\n",
    "            P = PrimeBasis(coord_E, nodes[1,i], nodes[2,i], nodes[3,i])\n",
    "            VM[i,j] = dot(P[:,j],normals[:,i])\n",
    "        end\n",
    "    end\n",
    "\n",
    "    return VM\n",
    "end"
   ]
  },
  {
   "cell_type": "code",
   "execution_count": 18,
   "metadata": {},
   "outputs": [
    {
     "data": {
      "text/plain": [
       "GetPrismNodalBasis (generic function with 1 method)"
      ]
     },
     "execution_count": 18,
     "metadata": {},
     "output_type": "execute_result"
    }
   ],
   "source": [
    "function GetPrismNodalBasis(coord_E, xhat, yhat, zhat)\n",
    "   \n",
    "    VM = VondermondeMat(coord_E)\n",
    "    P = PrimeBasis(coord_E, xhat, yhat, zhat)\n",
    "    invVM = inv(VM)\n",
    "    Nhat = P * invVM\n",
    "\n",
    "    return Nhat\n",
    "end"
   ]
  },
  {
   "cell_type": "code",
   "execution_count": 19,
   "metadata": {},
   "outputs": [
    {
     "name": "stdout",
     "output_type": "stream",
     "text": [
      "\u001b[37m\u001b[1mTest Summary:         | \u001b[22m\u001b[39m\u001b[32m\u001b[1mPass  \u001b[22m\u001b[39m\u001b[36m\u001b[1mTotal\u001b[22m\u001b[39m\n",
      "TestNodalBasisUniform | \u001b[32m 108  \u001b[39m\u001b[36m  108\u001b[39m\n"
     ]
    },
    {
     "data": {
      "text/plain": [
       "Test.DefaultTestSet(\"TestNodalBasisUniform\", Any[], 108, false, false)"
      ]
     },
     "execution_count": 19,
     "metadata": {},
     "output_type": "execute_result"
    }
   ],
   "source": [
    "@testset \"TestNodalBasisUniform\" begin\n",
    "\n",
    "    coord_E = [0. 0. -2.;2. 0. -2.;0. 2. -2.;\n",
    "               0. 0. 2.;2. 0. 2.;0. 2. 2.]\n",
    "    nl = GetNormal(coord_E, [0.], [-1.],[0.],\"left\")\n",
    "    nd = GetNormal(coord_E, [0.], [1.],[0.],\"diagonal\")\n",
    "    nbt = GetNormal(coord_E, [0.], [0.],[-1.],\"bottom\")\n",
    "    nt = GetNormal(coord_E, [0.], [0.],[1.],\"top\")\n",
    "    nbk = GetNormal(coord_E, [-1.], [0.],[0.],\"back\")\n",
    "    \n",
    "    err = 1e-14\n",
    "    #============= Node 1==============#\n",
    "    # check node 1\n",
    "    Nhat = GetPrismNodalBasis(coord_E,[0.], [0.], [-1])\n",
    "    @test isapprox(dot(Nhat[:,1],nbk), 1.;atol=err)\n",
    "    @test isapprox(dot(Nhat[:,2],nl), 1.;atol=err)\n",
    "    @test isapprox(dot(Nhat[:,3],nbt), 1.;atol=err)\n",
    "    # check node 2\n",
    "    @test isapprox(dot(Nhat[:,4],nd), 0.;atol=err)\n",
    "    @test isapprox(dot(Nhat[:,5],nl), 0.;atol=err)\n",
    "    @test isapprox(dot(Nhat[:,6],nbt), 0.;atol=err)\n",
    "    # check node 3\n",
    "    @test isapprox(dot(Nhat[:,7],nbk), 0.;atol=err)\n",
    "    @test isapprox(dot(Nhat[:,8],nd), 0.;atol=err)\n",
    "    @test isapprox(dot(Nhat[:,9],nbt), 0.;atol=err)\n",
    "    # check node 4\n",
    "    @test isapprox(dot(Nhat[:,10],nbk), 0.;atol=err)\n",
    "    @test isapprox(dot(Nhat[:,11],nl), 0.;atol=err)\n",
    "    @test isapprox(dot(Nhat[:,12],nt), 0.;atol=err)\n",
    "    # check node 5\n",
    "    @test isapprox(dot(Nhat[:,13],nd), 0.;atol=err)\n",
    "    @test isapprox(dot(Nhat[:,14],nl), 0.;atol=err)\n",
    "    @test isapprox(dot(Nhat[:,15],nt), 0.;atol=err)\n",
    "    # check node 6\n",
    "    @test isapprox(dot(Nhat[:,16],nbk), 0.;atol=err)\n",
    "    @test isapprox(dot(Nhat[:,17],nd), 0.;atol=err)\n",
    "    @test isapprox(dot(Nhat[:,18],nt), 0.;atol=err)\n",
    "    \n",
    "    #============= Node 2==============#\n",
    "    # check node 1\n",
    "    Nhat = GetPrismNodalBasis(coord_E,[1.], [0.], [-1])\n",
    "    @test isapprox(dot(Nhat[:,1],nbk), 0.;atol=err)\n",
    "    @test isapprox(dot(Nhat[:,2],nl), 0.;atol=err)\n",
    "    @test isapprox(dot(Nhat[:,3],nbt), 0.;atol=err)\n",
    "    # check node 2\n",
    "    @test isapprox(dot(Nhat[:,4],nd), 1.;atol=err)\n",
    "    @test isapprox(dot(Nhat[:,5],nl), 1.;atol=err)\n",
    "    @test isapprox(dot(Nhat[:,6],nbt), 1.;atol=err)\n",
    "    # check node 3\n",
    "    @test isapprox(dot(Nhat[:,7],nbk), 0.;atol=err)\n",
    "    @test isapprox(dot(Nhat[:,8],nd), 0.;atol=err)\n",
    "    @test isapprox(dot(Nhat[:,9],nbt), 0.;atol=err)\n",
    "    # check node 4\n",
    "    @test isapprox(dot(Nhat[:,10],nbk), 0.;atol=err)\n",
    "    @test isapprox(dot(Nhat[:,11],nl), 0.;atol=err)\n",
    "    @test isapprox(dot(Nhat[:,12],nt), 0.;atol=err)\n",
    "    # check node 5\n",
    "    @test isapprox(dot(Nhat[:,13],nd), 0.;atol=err)\n",
    "    @test isapprox(dot(Nhat[:,14],nl), 0.;atol=err)\n",
    "    @test isapprox(dot(Nhat[:,15],nt), 0.;atol=err)\n",
    "    # check node 6\n",
    "    @test isapprox(dot(Nhat[:,16],nbk), 0.;atol=err)\n",
    "    @test isapprox(dot(Nhat[:,17],nd), 0.;atol=err)\n",
    "    @test isapprox(dot(Nhat[:,18],nt), 0.;atol=err)\n",
    "    #============= Node 3==============#\n",
    "    # check node 1\n",
    "    Nhat = GetPrismNodalBasis(coord_E,[0.], [1.], [-1])\n",
    "    @test isapprox(dot(Nhat[:,1],nbk), 0.;atol=err)\n",
    "    @test isapprox(dot(Nhat[:,2],nl), 0.;atol=err)\n",
    "    @test isapprox(dot(Nhat[:,3],nbt), 0.;atol=err)\n",
    "    # check node 2\n",
    "    @test isapprox(dot(Nhat[:,4],nd), 0.;atol=err)\n",
    "    @test isapprox(dot(Nhat[:,5],nl), 0.;atol=err)\n",
    "    @test isapprox(dot(Nhat[:,6],nbt), 0.;atol=err)\n",
    "    # check node 3\n",
    "    @test isapprox(dot(Nhat[:,7],nbk), 1.;atol=err)\n",
    "    @test isapprox(dot(Nhat[:,8],nd), 1.;atol=err)\n",
    "    @test isapprox(dot(Nhat[:,9],nbt), 1.;atol=err)\n",
    "    # check node 4\n",
    "    @test isapprox(dot(Nhat[:,10],nbk), 0.;atol=err)\n",
    "    @test isapprox(dot(Nhat[:,11],nl), 0.;atol=err)\n",
    "    @test isapprox(dot(Nhat[:,12],nt), 0.;atol=err)\n",
    "    # check node 5\n",
    "    @test isapprox(dot(Nhat[:,13],nd), 0.;atol=err)\n",
    "    @test isapprox(dot(Nhat[:,14],nl), 0.;atol=err)\n",
    "    @test isapprox(dot(Nhat[:,15],nt), 0.;atol=err)\n",
    "    # check node 6\n",
    "    @test isapprox(dot(Nhat[:,16],nbk), 0.;atol=err)\n",
    "    @test isapprox(dot(Nhat[:,17],nd), 0.;atol=err)\n",
    "    @test isapprox(dot(Nhat[:,18],nt), 0.;atol=err)\n",
    "    #============= Node 4==============#\n",
    "    # check node 1\n",
    "    Nhat = GetPrismNodalBasis(coord_E,[0.], [0.], [1])\n",
    "    @test isapprox(dot(Nhat[:,1],nbk), 0.;atol=err)\n",
    "    @test isapprox(dot(Nhat[:,2],nl), 0.;atol=err)\n",
    "    @test isapprox(dot(Nhat[:,3],nbt), 0.;atol=err)\n",
    "    # check node 2\n",
    "    @test isapprox(dot(Nhat[:,4],nd), 0.;atol=err)\n",
    "    @test isapprox(dot(Nhat[:,5],nl), 0.;atol=err)\n",
    "    @test isapprox(dot(Nhat[:,6],nbt), 0.;atol=err)\n",
    "    # check node 3\n",
    "    @test isapprox(dot(Nhat[:,7],nbk), 0.;atol=err)\n",
    "    @test isapprox(dot(Nhat[:,8],nd), 0.;atol=err)\n",
    "    @test isapprox(dot(Nhat[:,9],nbt), 0.;atol=err)\n",
    "    # check node 4\n",
    "    @test isapprox(dot(Nhat[:,10],nbk), 1.;atol=err)\n",
    "    @test isapprox(dot(Nhat[:,11],nl), 1.;atol=err)\n",
    "    @test isapprox(dot(Nhat[:,12],nt), 1.;atol=err)\n",
    "    # check node 5\n",
    "    @test isapprox(dot(Nhat[:,13],nd), 0.;atol=err)\n",
    "    @test isapprox(dot(Nhat[:,14],nl), 0.;atol=err)\n",
    "    @test isapprox(dot(Nhat[:,15],nt), 0.;atol=err)\n",
    "    # check node 6\n",
    "    @test isapprox(dot(Nhat[:,16],nbk), 0.;atol=err)\n",
    "    @test isapprox(dot(Nhat[:,17],nd), 0.;atol=err)\n",
    "    @test isapprox(dot(Nhat[:,18],nt), 0.;atol=err)\n",
    "    #============= Node 5==============#\n",
    "    # check node 1\n",
    "    Nhat = GetPrismNodalBasis(coord_E,[1.], [0.], [1])\n",
    "    @test isapprox(dot(Nhat[:,1],nbk), 0.;atol=err)\n",
    "    @test isapprox(dot(Nhat[:,2],nl), 0.;atol=err)\n",
    "    @test isapprox(dot(Nhat[:,3],nbt), 0.;atol=err)\n",
    "    # check node 2\n",
    "    @test isapprox(dot(Nhat[:,4],nd), 0.;atol=err)\n",
    "    @test isapprox(dot(Nhat[:,5],nl), 0.;atol=err)\n",
    "    @test isapprox(dot(Nhat[:,6],nbt), 0.;atol=err)\n",
    "    # check node 3\n",
    "    @test isapprox(dot(Nhat[:,7],nbk), 0.;atol=err)\n",
    "    @test isapprox(dot(Nhat[:,8],nd), 0.;atol=err)\n",
    "    @test isapprox(dot(Nhat[:,9],nbt), 0.;atol=err)\n",
    "    # check node 4\n",
    "    @test isapprox(dot(Nhat[:,10],nbk), 0.;atol=err)\n",
    "    @test isapprox(dot(Nhat[:,11],nl), 0.;atol=err)\n",
    "    @test isapprox(dot(Nhat[:,12],nt), 0.;atol=err)\n",
    "    # check node 5\n",
    "    @test isapprox(dot(Nhat[:,13],nd), 1.;atol=err)\n",
    "    @test isapprox(dot(Nhat[:,14],nl), 1.;atol=err)\n",
    "    @test isapprox(dot(Nhat[:,15],nt), 1.;atol=err)\n",
    "    # check node 6\n",
    "    @test isapprox(dot(Nhat[:,16],nbk), 0.;atol=err)\n",
    "    @test isapprox(dot(Nhat[:,17],nd), 0.;atol=err)\n",
    "    @test isapprox(dot(Nhat[:,18],nt), 0.;atol=err)\n",
    "    #============= Node 6==============#\n",
    "    # check node 1\n",
    "    Nhat = GetPrismNodalBasis(coord_E,[0.], [1.], [1])\n",
    "    @test isapprox(dot(Nhat[:,1],nbk), 0.;atol=err)\n",
    "    @test isapprox(dot(Nhat[:,2],nl), 0.;atol=err)\n",
    "    @test isapprox(dot(Nhat[:,3],nbt), 0.;atol=err)\n",
    "    # check node 2\n",
    "    @test isapprox(dot(Nhat[:,4],nd), 0.;atol=err)\n",
    "    @test isapprox(dot(Nhat[:,5],nl), 0.;atol=err)\n",
    "    @test isapprox(dot(Nhat[:,6],nbt), 0.;atol=err)\n",
    "    # check node 3\n",
    "    @test isapprox(dot(Nhat[:,7],nbk), 0.;atol=err)\n",
    "    @test isapprox(dot(Nhat[:,8],nd), 0.;atol=err)\n",
    "    @test isapprox(dot(Nhat[:,9],nbt), 0.;atol=err)\n",
    "    # check node 4\n",
    "    @test isapprox(dot(Nhat[:,10],nbk), 0.;atol=err)\n",
    "    @test isapprox(dot(Nhat[:,11],nl), 0.;atol=err)\n",
    "    @test isapprox(dot(Nhat[:,12],nt), 0.;atol=err)\n",
    "    # check node 5\n",
    "    @test isapprox(dot(Nhat[:,13],nd), 0.;atol=err)\n",
    "    @test isapprox(dot(Nhat[:,14],nl), 0.;atol=err)\n",
    "    @test isapprox(dot(Nhat[:,15],nt), 0.;atol=err)\n",
    "    # check node 6\n",
    "    @test isapprox(dot(Nhat[:,16],nbk), 1.;atol=err)\n",
    "    @test isapprox(dot(Nhat[:,17],nd), 1.;atol=err)\n",
    "    @test isapprox(dot(Nhat[:,18],nt), 1.;atol=err)\n",
    "    \n",
    "end"
   ]
  },
  {
   "cell_type": "code",
   "execution_count": null,
   "metadata": {},
   "outputs": [],
   "source": []
  }
 ],
 "metadata": {
  "kernelspec": {
   "display_name": "Julia 1.6.0",
   "language": "julia",
   "name": "julia-1.6"
  },
  "language_info": {
   "file_extension": ".jl",
   "mimetype": "application/julia",
   "name": "julia",
   "version": "1.6.0"
  }
 },
 "nbformat": 4,
 "nbformat_minor": 4
}
